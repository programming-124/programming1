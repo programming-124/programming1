{
 "cells": [
  {
   "cell_type": "code",
   "execution_count": 3,
   "metadata": {
    "collapsed": true,
    "deletable": true,
    "editable": true
   },
   "outputs": [],
   "source": [
    "import numpy as np\n",
    "import pandas as pd\n",
    "import math\n",
    "import random\n",
    "import matplotlib.pyplot as plt\n",
    "def mean(numbers):\n",
    "    return float(sum(numbers)) / max(len(numbers), 1)\n",
    "import collections\n",
    "from collections import Counter\n",
    "import seaborn as sns\n",
    "%matplotlib inline"
   ]
  },
  {
   "cell_type": "code",
   "execution_count": 46,
   "metadata": {
    "collapsed": false,
    "deletable": true,
    "editable": true
   },
   "outputs": [],
   "source": [
    "def exists(index, H):\n",
    "    if index < len(H):\n",
    "        return True\n",
    "    return False"
   ]
  },
  {
   "cell_type": "code",
   "execution_count": 70,
   "metadata": {
    "collapsed": false,
    "deletable": true,
    "editable": true
   },
   "outputs": [],
   "source": [
    "## values might not exist!!!\n",
    "def parent(index, H):\n",
    "    return index/2\n",
    "def left(index, H):\n",
    "    return 2*(index + 1) - 1\n",
    "def right(index, H):\n",
    "    return 2*(index + 1)"
   ]
  },
  {
   "cell_type": "code",
   "execution_count": 171,
   "metadata": {
    "collapsed": false,
    "deletable": true,
    "editable": true
   },
   "outputs": [],
   "source": [
    "def min_heapify(H, n):\n",
    "    l = left(n, H)\n",
    "    r = right(n, H)\n",
    "    minimum = None\n",
    "    \n",
    "    if exists(l, H) and H[l] < H[n]:\n",
    "        minimum = l\n",
    "    else:\n",
    "        minimum = n\n",
    "    if exists(r, H) and H[r] < H[minimum]:\n",
    "        minimum = r\n",
    "    if minimum != n:\n",
    "        value_minimum = H[minimum]\n",
    "        H[minimum] = H[n]\n",
    "        H[n] = value_minimum\n",
    "        H = min_heapify(H, minimum)\n",
    "    return H"
   ]
  },
  {
   "cell_type": "code",
   "execution_count": 173,
   "metadata": {
    "collapsed": false,
    "deletable": true,
    "editable": true
   },
   "outputs": [
    {
     "data": {
      "text/plain": [
       "[8, 9, 4, 7, 6, 5, 10, 3, 2, 1]"
      ]
     },
     "execution_count": 173,
     "metadata": {},
     "output_type": "execute_result"
    }
   ],
   "source": [
    "H = [10, 9, 8,7,6,5,4,3,2,1]\n",
    "min_heapify(H, 0)"
   ]
  },
  {
   "cell_type": "code",
   "execution_count": 170,
   "metadata": {
    "collapsed": false,
    "deletable": true,
    "editable": true
   },
   "outputs": [],
   "source": [
    "def build_heap(A):\n",
    "    start = len(A) / 2 - 1\n",
    "    H = A\n",
    "    for i in xrange(start, -1, -1):\n",
    "        H = min_heapify(H, i)\n",
    "    H = min_heapify(H, 0)\n",
    "    return H"
   ]
  },
  {
   "cell_type": "code",
   "execution_count": 172,
   "metadata": {
    "collapsed": false,
    "deletable": true,
    "editable": true
   },
   "outputs": [
    {
     "data": {
      "text/plain": [
       "array([ 0,  2,  1,  4,  3,  7,  6,  5,  9, 11,  8, 10, 12])"
      ]
     },
     "execution_count": 172,
     "metadata": {},
     "output_type": "execute_result"
    }
   ],
   "source": [
    "H = np.array([12,11, 10, 9, 8, 7, 6, 5, 4, 3, 2, 1, 0])\n",
    "build_heap(H)"
   ]
  },
  {
   "cell_type": "code",
   "execution_count": null,
   "metadata": {
    "collapsed": true,
    "deletable": true,
    "editable": true
   },
   "outputs": [],
   "source": [
    "\"\"\"\n",
    "124 programming optimizations:\n",
    "1. heaps\n",
    "2. min-heap\n",
    "3. heapify\n",
    "4. insert heaps\n",
    "5. throw out edges\n",
    "6. create graphs \n",
    "7. create distance\n",
    "\"\"\"\n"
   ]
  },
  {
   "cell_type": "code",
   "execution_count": 1,
   "metadata": {
    "collapsed": true,
    "deletable": true,
    "editable": true
   },
   "outputs": [],
   "source": [
    "\"\"\"\n",
    "given that left(n) and right(n) are min-heaps, return \n",
    "\"\"\"\n",
    "def min_heapify(a):\n",
    "    "
   ]
  },
  {
   "cell_type": "code",
   "execution_count": null,
   "metadata": {
    "collapsed": true,
    "deletable": true,
    "editable": true
   },
   "outputs": [],
   "source": [
    "heapify()"
   ]
  },
  {
   "cell_type": "code",
   "execution_count": 4,
   "metadata": {
    "collapsed": false,
    "deletable": true,
    "editable": true
   },
   "outputs": [],
   "source": [
    "N = 128\n",
    "num_trials = 5"
   ]
  },
  {
   "cell_type": "code",
   "execution_count": 5,
   "metadata": {
    "collapsed": true,
    "deletable": true,
    "editable": true
   },
   "outputs": [],
   "source": [
    "def mean(numbers):\n",
    "    return float(sum(numbers)) / max(len(numbers), 1)"
   ]
  },
  {
   "cell_type": "code",
   "execution_count": 6,
   "metadata": {
    "collapsed": false,
    "deletable": true,
    "editable": true
   },
   "outputs": [
    {
     "ename": "SyntaxError",
     "evalue": "invalid syntax (<ipython-input-6-a2296d623562>, line 1)",
     "output_type": "error",
     "traceback": [
      "\u001b[0;36m  File \u001b[0;32m\"<ipython-input-6-a2296d623562>\"\u001b[0;36m, line \u001b[0;32m1\u001b[0m\n\u001b[0;31m    MIN_VALUE =\u001b[0m\n\u001b[0m                ^\u001b[0m\n\u001b[0;31mSyntaxError\u001b[0m\u001b[0;31m:\u001b[0m invalid syntax\n"
     ]
    }
   ],
   "source": [
    "MIN_VALUE = "
   ]
  },
  {
   "cell_type": "code",
   "execution_count": 18,
   "metadata": {
    "collapsed": true,
    "deletable": true,
    "editable": true
   },
   "outputs": [],
   "source": [
    "large_graph = 3\n",
    "max_weight = 0.94452746846329578"
   ]
  },
  {
   "cell_type": "code",
   "execution_count": 22,
   "metadata": {
    "collapsed": false
   },
   "outputs": [
    {
     "data": {
      "text/plain": [
       "0.44463524066271076"
      ]
     },
     "execution_count": 22,
     "metadata": {},
     "output_type": "execute_result"
    }
   ],
   "source": [
    "weights = np.random.random_sample((4,1))\n",
    "weights[2][0]"
   ]
  },
  {
   "cell_type": "code",
   "execution_count": 48,
   "metadata": {
    "collapsed": false,
    "deletable": true,
    "editable": true
   },
   "outputs": [],
   "source": [
    "# for a complete graph, m = O(n^2)\n",
    "# create a graph, matrix representation\n",
    "\"\"\"\n",
    "createCompleteGraph(n) \n",
    "input n where n is the size of the node\n",
    "return \n",
    "\n",
    "input: {s:0}\n",
    "deletes smallest priority element\n",
    "\"\"\"\n",
    "\n",
    "def create_complete_graph(n):\n",
    "    vs = list(range(0, n))\n",
    "    graph = collections.defaultdict(dict)\n",
    "    for u in xrange(0, n):\n",
    "        weights = np.random.random_sample((1,n))[0]\n",
    "        for w in xrange(u+1,n):\n",
    "            if n >= large_graph:\n",
    "                if weights[w] < max_weight:\n",
    "                    graph[u][w] = weights[w]\n",
    "                    graph[w][u] = weights[w]\n",
    "            else:\n",
    "                graph[u][w] = weights[w]\n",
    "                graph[w][u] = weights[w]\n",
    "    return graph"
   ]
  },
  {
   "cell_type": "code",
   "execution_count": 84,
   "metadata": {
    "collapsed": false
   },
   "outputs": [],
   "source": [
    "# for a complete graph, m = O(n^2)\n",
    "# create a graph, matrix representation\n",
    "\"\"\"\n",
    "multiple dimensions\n",
    "\"\"\"\n",
    "\n",
    "def create_complete_graph_dimensional(n, d):\n",
    "    vs = list(range(0, n))\n",
    "    graph = collections.defaultdict(dict)\n",
    "    points = np.random.random_sample((n,d))\n",
    "    for u in xrange(0, n):\n",
    "        for w in xrange(u+1,n):\n",
    "            weight = np.linalg.norm(points[u]-points[w])\n",
    "            if n >= large_graph:\n",
    "                if weight < max_weight:\n",
    "                    graph[u][w] = weight\n",
    "                    graph[w][u] = weight\n",
    "            else:\n",
    "                graph[u][w] = weight\n",
    "                graph[w][u] = weight\n",
    "    return graph"
   ]
  },
  {
   "cell_type": "code",
   "execution_count": 85,
   "metadata": {
    "collapsed": false
   },
   "outputs": [
    {
     "data": {
      "text/plain": [
       "defaultdict(dict, {0: {1: 0.9720384569641779}, 1: {0: 0.9720384569641779}})"
      ]
     },
     "execution_count": 85,
     "metadata": {},
     "output_type": "execute_result"
    }
   ],
   "source": [
    "create_complete_graph_dimensional(2,2)"
   ]
  },
  {
   "cell_type": "code",
   "execution_count": 53,
   "metadata": {
    "collapsed": true,
    "deletable": true,
    "editable": true
   },
   "outputs": [],
   "source": [
    "\"\"\"\n",
    "Delete min dict\n",
    "input: {s:0}\n",
    "deletes smallest priority element\n",
    "\"\"\"\n",
    "def delete_min_dict(H):\n",
    "    v = min(H, key=H.get)\n",
    "    edge_weight = H[v]\n",
    "    del H[v]\n",
    "    return v, edge_weight, H"
   ]
  },
  {
   "cell_type": "code",
   "execution_count": 11,
   "metadata": {
    "collapsed": false,
    "deletable": true,
    "editable": true
   },
   "outputs": [
    {
     "name": "stdout",
     "output_type": "stream",
     "text": [
      "s 0 {'a': 100, 'b': 3}\n"
     ]
    }
   ],
   "source": [
    "v, edge_weight, H = delete_min_dict({\"s\":0, \"a\": 100, \"b\": 3})\n",
    "print v, edge_weight, H"
   ]
  },
  {
   "cell_type": "code",
   "execution_count": 52,
   "metadata": {
    "collapsed": false,
    "deletable": true,
    "editable": true
   },
   "outputs": [],
   "source": [
    "\"\"\"\n",
    "Prim's algorithm\n",
    "takes a graph of size n\n",
    "returns a tree\n",
    "\"\"\"\n",
    "def prim(graph, n):\n",
    "    # keep \n",
    "    dist= collections.defaultdict(int)\n",
    "    # keep track of previous node for each vertex v\n",
    "    prev = collections.defaultdict(int)\n",
    "    vs = list(range(0, n))\n",
    "    for v in vs:\n",
    "        dist[v] = float(\"inf\")\n",
    "    s = 0\n",
    "    dist[s] = 0\n",
    "\n",
    "    # for now, heap to keep track of what to add is just an array\n",
    "    H = {s:0}\n",
    "    T = {}\n",
    "    edge_weights = []\n",
    "    while H != {}:\n",
    "        v, edge_weight, H = delete_min_dict(H)\n",
    "        T[v] = edge_weight\n",
    "        edge_weights.append(edge_weight)\n",
    "        # loop through all the edges of graph (v,w) not already connected in the current tree\n",
    "        \n",
    "        nodes_in_other_cut = list(set(range(0,n)) - set(T.keys()))\n",
    "        \n",
    "        for w in nodes_in_other_cut:\n",
    "            try:\n",
    "                weight_vw = graph[v][w]\n",
    "\n",
    "                if dist[w] > weight_vw:\n",
    "                    dist[w] = weight_vw\n",
    "                    prev[w] = v\n",
    "                    # replace later with distance of w\n",
    "                    H[w] = dist[w]\n",
    "            except:\n",
    "                pass\n",
    "    return T, sum(edge_weights)\n",
    "            "
   ]
  },
  {
   "cell_type": "code",
   "execution_count": 75,
   "metadata": {
    "collapsed": false
   },
   "outputs": [],
   "source": [
    "\"\"\"\n",
    "Prim's algorithm\n",
    "takes a graph of size n\n",
    "returns a tree\n",
    "\"\"\"\n",
    "def prims(graph, n):\n",
    "    # keep \n",
    "    dist= collections.defaultdict(int)\n",
    "    # keep track of previous node for each vertex v\n",
    "    prev = collections.defaultdict(int)\n",
    "    vs = list(range(0, n))\n",
    "    for v in vs:\n",
    "        dist[v] = float(\"inf\")\n",
    "    s = 0\n",
    "    dist[s] = 0\n",
    "\n",
    "    # for now, heap to keep track of what to add is just an array\n",
    "    H = {s:0}\n",
    "    T = {}\n",
    "    edge_weights = []\n",
    "    while H != {}:\n",
    "        v, edge_weight, H = delete_min_dict(H)\n",
    "        T[v] = edge_weight\n",
    "        edge_weights.append(edge_weight)\n",
    "        # loop through all the edges of graph (v,w) not already connected in the current tree\n",
    "        \n",
    "        for w in graph[v]:\n",
    "            # only care about edge to w if w not in our T, now can access in constant time to check if in other cut\n",
    "            if w not in T:\n",
    "                weight_vw = graph[v][w]\n",
    "\n",
    "                if dist[w] > weight_vw:\n",
    "                    dist[w] = weight_vw\n",
    "                    prev[w] = v\n",
    "                    # replace later with distance of w\n",
    "                    H[w] = dist[w]\n",
    "    return T, sum(edge_weights)"
   ]
  },
  {
   "cell_type": "code",
   "execution_count": 86,
   "metadata": {
    "collapsed": false,
    "deletable": true,
    "editable": true,
    "scrolled": true
   },
   "outputs": [],
   "source": [
    "# graph with nodes {0, .., n}, 0 represents no edge, and otherwise it's the weight\n",
    "graph = create_complete_graph_dimensional(10, 2)"
   ]
  },
  {
   "cell_type": "code",
   "execution_count": 87,
   "metadata": {
    "collapsed": false,
    "deletable": true,
    "editable": true
   },
   "outputs": [
    {
     "data": {
      "text/plain": [
       "{0: 0,\n",
       " 1: 0.12994638441210687,\n",
       " 2: 0.26160468905835987,\n",
       " 3: 0.25580585139649431,\n",
       " 4: 0.17180848909432317,\n",
       " 5: 0.28317309471713697,\n",
       " 6: 0.26260475812915851,\n",
       " 7: 0.25733026632657019,\n",
       " 8: 0.1228173700446962,\n",
       " 9: 0.1667454591833514}"
      ]
     },
     "execution_count": 87,
     "metadata": {},
     "output_type": "execute_result"
    }
   ],
   "source": [
    "T_earlier, weight = prim(graph, 10)\n",
    "T_earlier"
   ]
  },
  {
   "cell_type": "code",
   "execution_count": 88,
   "metadata": {
    "collapsed": false,
    "deletable": true,
    "editable": true
   },
   "outputs": [
    {
     "data": {
      "text/plain": [
       "{0: 0,\n",
       " 1: 0.12994638441210687,\n",
       " 2: 0.26160468905835987,\n",
       " 3: 0.25580585139649431,\n",
       " 4: 0.17180848909432317,\n",
       " 5: 0.28317309471713697,\n",
       " 6: 0.26260475812915851,\n",
       " 7: 0.25733026632657019,\n",
       " 8: 0.1228173700446962,\n",
       " 9: 0.1667454591833514}"
      ]
     },
     "execution_count": 88,
     "metadata": {},
     "output_type": "execute_result"
    }
   ],
   "source": [
    "T, weight = prims(graph, 10)\n",
    "T"
   ]
  },
  {
   "cell_type": "code",
   "execution_count": 67,
   "metadata": {
    "collapsed": false
   },
   "outputs": [
    {
     "data": {
      "text/plain": [
       "{0: 0, 1: 0.56776323164062226, 2: 0.25575598104001829}"
      ]
     },
     "execution_count": 67,
     "metadata": {},
     "output_type": "execute_result"
    }
   ],
   "source": [
    "T"
   ]
  },
  {
   "cell_type": "code",
   "execution_count": 91,
   "metadata": {
    "collapsed": true
   },
   "outputs": [],
   "source": [
    "def create_graph(N, dimensions):\n",
    "    if dimensions == 1:\n",
    "        graph = create_complete_graph(N)\n",
    "        return graph\n",
    "    graph = create_complete_graph_dimensional(N, dimensions)\n",
    "    return graph"
   ]
  },
  {
   "cell_type": "code",
   "execution_count": 104,
   "metadata": {
    "collapsed": false,
    "deletable": true,
    "editable": true
   },
   "outputs": [],
   "source": [
    "def get_average(num_trials, N, dimensions):\n",
    "    maxes = []\n",
    "    weights = []\n",
    "    for i in xrange(0, num_trials):\n",
    "        graph = create_graph(N, dimensions)\n",
    "        T, weight = prims(graph, N)\n",
    "        weights.append(weight)\n",
    "        max_el = max(T.values())\n",
    "        maxes.append(max_el)\n",
    "        print \"finished with graph\" + str(i)\n",
    "    return max(maxes), mean(weights)"
   ]
  },
  {
   "cell_type": "markdown",
   "metadata": {},
   "source": [
    "### 2 dimensions"
   ]
  },
  {
   "cell_type": "code",
   "execution_count": 98,
   "metadata": {
    "collapsed": false,
    "deletable": true,
    "editable": true
   },
   "outputs": [
    {
     "data": {
      "text/plain": [
       "(0.22700098724986487, 7.675501450577005)"
      ]
     },
     "execution_count": 98,
     "metadata": {},
     "output_type": "execute_result"
    }
   ],
   "source": [
    "max_of_maxes, mean_weights = get_average(5, 128, 2)\n",
    "max_of_maxes, mean_weights"
   ]
  },
  {
   "cell_type": "code",
   "execution_count": 99,
   "metadata": {
    "collapsed": false,
    "deletable": true,
    "editable": true
   },
   "outputs": [
    {
     "data": {
      "text/plain": [
       "(0.10798974790676615, 10.629121675800233)"
      ]
     },
     "execution_count": 99,
     "metadata": {},
     "output_type": "execute_result"
    }
   ],
   "source": [
    "max_of_maxes, mean_weights = get_average(5, 256, 2)\n",
    "max_of_maxes, mean_weights"
   ]
  },
  {
   "cell_type": "code",
   "execution_count": 101,
   "metadata": {
    "collapsed": false,
    "deletable": true,
    "editable": true
   },
   "outputs": [
    {
     "data": {
      "text/plain": [
       "(0.10602826568769005, 14.995447001439796)"
      ]
     },
     "execution_count": 101,
     "metadata": {},
     "output_type": "execute_result"
    }
   ],
   "source": [
    "max_of_maxes, mean_weights = get_average(5, 512, 2)\n",
    "max_of_maxes, mean_weights"
   ]
  },
  {
   "cell_type": "code",
   "execution_count": 102,
   "metadata": {
    "collapsed": false,
    "deletable": true,
    "editable": true
   },
   "outputs": [
    {
     "data": {
      "text/plain": [
       "(0.058855307495726782, 21.006121994532073)"
      ]
     },
     "execution_count": 102,
     "metadata": {},
     "output_type": "execute_result"
    }
   ],
   "source": [
    "max_of_maxes, mean_weights = get_average(5, 1024, 2)\n",
    "max_of_maxes, mean_weights"
   ]
  },
  {
   "cell_type": "code",
   "execution_count": 103,
   "metadata": {
    "collapsed": false,
    "deletable": true,
    "editable": true
   },
   "outputs": [
    {
     "data": {
      "text/plain": [
       "(0.041078807658046827, 29.66717907639788)"
      ]
     },
     "execution_count": 103,
     "metadata": {},
     "output_type": "execute_result"
    }
   ],
   "source": [
    "max_of_maxes, mean_weights = get_average(5, 2048, 2)\n",
    "max_of_maxes, mean_weights"
   ]
  },
  {
   "cell_type": "code",
   "execution_count": 105,
   "metadata": {
    "collapsed": false,
    "deletable": true,
    "editable": true
   },
   "outputs": [
    {
     "name": "stdout",
     "output_type": "stream",
     "text": [
      "finished with graph0\n",
      "finished with graph1\n",
      "finished with graph2\n",
      "finished with graph3\n",
      "finished with graph4\n"
     ]
    },
    {
     "data": {
      "text/plain": [
       "(0.033959363945190182, 41.74804422081651)"
      ]
     },
     "execution_count": 105,
     "metadata": {},
     "output_type": "execute_result"
    }
   ],
   "source": [
    "max_of_maxes, mean_weights = get_average(5, 4096, 2)\n",
    "max_of_maxes, mean_weights"
   ]
  },
  {
   "cell_type": "markdown",
   "metadata": {},
   "source": [
    "### 3 dimensions"
   ]
  },
  {
   "cell_type": "code",
   "execution_count": 106,
   "metadata": {
    "collapsed": false
   },
   "outputs": [
    {
     "name": "stdout",
     "output_type": "stream",
     "text": [
      "finished with graph0\n",
      "finished with graph1\n",
      "finished with graph2\n",
      "finished with graph3\n",
      "finished with graph4\n"
     ]
    },
    {
     "data": {
      "text/plain": [
       "(0.31707199720229001, 17.83610464903188)"
      ]
     },
     "execution_count": 106,
     "metadata": {},
     "output_type": "execute_result"
    }
   ],
   "source": [
    "max_of_maxes, mean_weights = get_average(5, 128, 3)\n",
    "max_of_maxes, mean_weights"
   ]
  },
  {
   "cell_type": "code",
   "execution_count": 107,
   "metadata": {
    "collapsed": false,
    "deletable": true,
    "editable": true
   },
   "outputs": [
    {
     "name": "stdout",
     "output_type": "stream",
     "text": [
      "finished with graph0\n",
      "finished with graph1\n",
      "finished with graph2\n",
      "finished with graph3\n",
      "finished with graph4\n"
     ]
    },
    {
     "data": {
      "text/plain": [
       "(0.2437609638918799, 27.570741358070258)"
      ]
     },
     "execution_count": 107,
     "metadata": {},
     "output_type": "execute_result"
    }
   ],
   "source": [
    "max_of_maxes, mean_weights = get_average(5, 256, 3)\n",
    "max_of_maxes, mean_weights"
   ]
  },
  {
   "cell_type": "code",
   "execution_count": 108,
   "metadata": {
    "collapsed": false
   },
   "outputs": [
    {
     "name": "stdout",
     "output_type": "stream",
     "text": [
      "finished with graph0\n",
      "finished with graph1\n",
      "finished with graph2\n",
      "finished with graph3\n",
      "finished with graph4\n"
     ]
    },
    {
     "data": {
      "text/plain": [
       "(0.2135270435788689, 43.43944190833411)"
      ]
     },
     "execution_count": 108,
     "metadata": {},
     "output_type": "execute_result"
    }
   ],
   "source": [
    "max_of_maxes, mean_weights = get_average(5, 512, 3)\n",
    "max_of_maxes, mean_weights"
   ]
  },
  {
   "cell_type": "code",
   "execution_count": 109,
   "metadata": {
    "collapsed": false
   },
   "outputs": [
    {
     "name": "stdout",
     "output_type": "stream",
     "text": [
      "finished with graph0\n",
      "finished with graph1\n",
      "finished with graph2\n",
      "finished with graph3\n",
      "finished with graph4\n"
     ]
    },
    {
     "data": {
      "text/plain": [
       "(0.1686624581576206, 68.38831780546221)"
      ]
     },
     "execution_count": 109,
     "metadata": {},
     "output_type": "execute_result"
    }
   ],
   "source": [
    "max_of_maxes, mean_weights = get_average(5, 1024, 3)\n",
    "max_of_maxes, mean_weights"
   ]
  },
  {
   "cell_type": "code",
   "execution_count": 110,
   "metadata": {
    "collapsed": false
   },
   "outputs": [
    {
     "name": "stdout",
     "output_type": "stream",
     "text": [
      "finished with graph0\n",
      "finished with graph1\n",
      "finished with graph2\n",
      "finished with graph3\n",
      "finished with graph4\n"
     ]
    },
    {
     "data": {
      "text/plain": [
       "(0.11470596557446444, 106.9771800689434)"
      ]
     },
     "execution_count": 110,
     "metadata": {},
     "output_type": "execute_result"
    }
   ],
   "source": [
    "max_of_maxes, mean_weights = get_average(5, 2048, 3)\n",
    "max_of_maxes, mean_weights"
   ]
  },
  {
   "cell_type": "code",
   "execution_count": 111,
   "metadata": {
    "collapsed": false
   },
   "outputs": [
    {
     "name": "stdout",
     "output_type": "stream",
     "text": [
      "finished with graph0\n",
      "finished with graph1\n",
      "finished with graph2\n",
      "finished with graph3\n",
      "finished with graph4\n"
     ]
    },
    {
     "data": {
      "text/plain": [
       "(0.10366657309947817, 169.33794718065965)"
      ]
     },
     "execution_count": 111,
     "metadata": {},
     "output_type": "execute_result"
    }
   ],
   "source": [
    "max_of_maxes, mean_weights = get_average(5, 4096, 3)\n",
    "max_of_maxes, mean_weights"
   ]
  },
  {
   "cell_type": "markdown",
   "metadata": {},
   "source": [
    "### 4 dimensions"
   ]
  },
  {
   "cell_type": "code",
   "execution_count": 112,
   "metadata": {
    "collapsed": false
   },
   "outputs": [
    {
     "name": "stdout",
     "output_type": "stream",
     "text": [
      "finished with graph0\n",
      "finished with graph1\n",
      "finished with graph2\n",
      "finished with graph3\n",
      "finished with graph4\n"
     ]
    },
    {
     "data": {
      "text/plain": [
       "(0.41698359372982385, 28.312200670180136)"
      ]
     },
     "execution_count": 112,
     "metadata": {},
     "output_type": "execute_result"
    }
   ],
   "source": [
    "max_of_maxes, mean_weights = get_average(5, 128, 4)\n",
    "max_of_maxes, mean_weights"
   ]
  },
  {
   "cell_type": "code",
   "execution_count": 113,
   "metadata": {
    "collapsed": false
   },
   "outputs": [
    {
     "name": "stdout",
     "output_type": "stream",
     "text": [
      "finished with graph0\n",
      "finished with graph1\n",
      "finished with graph2\n",
      "finished with graph3\n",
      "finished with graph4\n"
     ]
    },
    {
     "data": {
      "text/plain": [
       "(0.34956828376383536, 46.77948122610407)"
      ]
     },
     "execution_count": 113,
     "metadata": {},
     "output_type": "execute_result"
    }
   ],
   "source": [
    "max_of_maxes, mean_weights = get_average(5, 256, 4)\n",
    "max_of_maxes, mean_weights"
   ]
  },
  {
   "cell_type": "code",
   "execution_count": 114,
   "metadata": {
    "collapsed": false
   },
   "outputs": [
    {
     "name": "stdout",
     "output_type": "stream",
     "text": [
      "finished with graph0\n",
      "finished with graph1\n",
      "finished with graph2\n",
      "finished with graph3\n",
      "finished with graph4\n"
     ]
    },
    {
     "data": {
      "text/plain": [
       "(0.29362224802583331, 79.04329393473186)"
      ]
     },
     "execution_count": 114,
     "metadata": {},
     "output_type": "execute_result"
    }
   ],
   "source": [
    "max_of_maxes, mean_weights = get_average(5, 512, 4)\n",
    "max_of_maxes, mean_weights"
   ]
  },
  {
   "cell_type": "code",
   "execution_count": 115,
   "metadata": {
    "collapsed": false
   },
   "outputs": [
    {
     "name": "stdout",
     "output_type": "stream",
     "text": [
      "finished with graph0\n",
      "finished with graph1\n",
      "finished with graph2\n",
      "finished with graph3\n",
      "finished with graph4\n"
     ]
    },
    {
     "data": {
      "text/plain": [
       "(0.27525666883236222, 129.71833132214996)"
      ]
     },
     "execution_count": 115,
     "metadata": {},
     "output_type": "execute_result"
    }
   ],
   "source": [
    "max_of_maxes, mean_weights = get_average(5, 1024, 4)\n",
    "max_of_maxes, mean_weights"
   ]
  },
  {
   "cell_type": "code",
   "execution_count": 116,
   "metadata": {
    "collapsed": false
   },
   "outputs": [
    {
     "name": "stdout",
     "output_type": "stream",
     "text": [
      "finished with graph0\n",
      "finished with graph1\n",
      "finished with graph2\n",
      "finished with graph3\n",
      "finished with graph4\n"
     ]
    },
    {
     "data": {
      "text/plain": [
       "(0.21978519943860375, 217.18872056435666)"
      ]
     },
     "execution_count": 116,
     "metadata": {},
     "output_type": "execute_result"
    }
   ],
   "source": [
    "max_of_maxes, mean_weights = get_average(5, 2048, 4)\n",
    "max_of_maxes, mean_weights"
   ]
  },
  {
   "cell_type": "code",
   "execution_count": 117,
   "metadata": {
    "collapsed": false
   },
   "outputs": [
    {
     "name": "stdout",
     "output_type": "stream",
     "text": [
      "finished with graph0\n",
      "finished with graph1\n",
      "finished with graph2\n",
      "finished with graph3\n",
      "finished with graph4\n"
     ]
    },
    {
     "data": {
      "text/plain": [
       "(0.1873325199319571, 361.8268575252109)"
      ]
     },
     "execution_count": 117,
     "metadata": {},
     "output_type": "execute_result"
    }
   ],
   "source": [
    "max_of_maxes, mean_weights = get_average(5, 4096, 4)\n",
    "max_of_maxes, mean_weights"
   ]
  },
  {
   "cell_type": "markdown",
   "metadata": {},
   "source": [
    "### Dimensions"
   ]
  },
  {
   "cell_type": "code",
   "execution_count": null,
   "metadata": {
    "collapsed": true,
    "deletable": true,
    "editable": true
   },
   "outputs": [],
   "source": [
    "max_of_maxes, mean_weights = get_average(5, 16384)\n",
    "max_of_maxes, mean_weights"
   ]
  },
  {
   "cell_type": "code",
   "execution_count": null,
   "metadata": {
    "collapsed": true,
    "deletable": true,
    "editable": true
   },
   "outputs": [],
   "source": [
    "max_of_maxes, mean_weights = get_average(5, 32768)\n",
    "max_of_maxes, mean_weights"
   ]
  },
  {
   "cell_type": "code",
   "execution_count": null,
   "metadata": {
    "collapsed": true,
    "deletable": true,
    "editable": true
   },
   "outputs": [],
   "source": [
    "max_of_maxes, mean_weights = get_average(5, 65536)\n",
    "max_of_maxes, mean_weights"
   ]
  }
 ],
 "metadata": {
  "kernelspec": {
   "display_name": "Python 2",
   "language": "python",
   "name": "python2"
  },
  "language_info": {
   "codemirror_mode": {
    "name": "ipython",
    "version": 2
   },
   "file_extension": ".py",
   "mimetype": "text/x-python",
   "name": "python",
   "nbconvert_exporter": "python",
   "pygments_lexer": "ipython2",
   "version": "2.7.10"
  }
 },
 "nbformat": 4,
 "nbformat_minor": 2
}
