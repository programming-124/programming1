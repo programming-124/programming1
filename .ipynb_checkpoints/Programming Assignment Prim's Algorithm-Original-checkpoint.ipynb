{
 "cells": [
  {
   "cell_type": "code",
   "execution_count": 1,
   "metadata": {
    "collapsed": true,
    "deletable": true,
    "editable": true
   },
   "outputs": [],
   "source": [
    "import numpy as np\n",
    "import pandas as pd\n",
    "import math\n",
    "import random\n",
    "import matplotlib.pyplot as plt\n",
    "def mean(numbers):\n",
    "    return float(sum(numbers)) / max(len(numbers), 1)\n",
    "import collections\n",
    "from collections import Counter\n",
    "import seaborn as sns\n",
    "%matplotlib inline"
   ]
  },
  {
   "cell_type": "code",
   "execution_count": null,
   "metadata": {
    "collapsed": true,
    "deletable": true,
    "editable": true
   },
   "outputs": [],
   "source": [
    "A = [(1, k), (2, ),4,5,6]"
   ]
  },
  {
   "cell_type": "code",
   "execution_count": 6,
   "metadata": {
    "collapsed": true,
    "deletable": true,
    "editable": true
   },
   "outputs": [],
   "source": [
    "H = [0, 1, 2, 3, 4, 5, 6, 7, 8, 9, 10]"
   ]
  },
  {
   "cell_type": "code",
   "execution_count": 46,
   "metadata": {
    "collapsed": false,
    "deletable": true,
    "editable": true
   },
   "outputs": [],
   "source": [
    "def exists(index, H):\n",
    "    if index < len(H):\n",
    "        return True\n",
    "    return False"
   ]
  },
  {
   "cell_type": "code",
   "execution_count": 70,
   "metadata": {
    "collapsed": false,
    "deletable": true,
    "editable": true
   },
   "outputs": [],
   "source": [
    "## values might not exist!!!\n",
    "def parent(index, H):\n",
    "    return index/2\n",
    "def left(index, H):\n",
    "    return 2*(index + 1) - 1\n",
    "def right(index, H):\n",
    "    return 2*(index + 1)"
   ]
  },
  {
   "cell_type": "code",
   "execution_count": 171,
   "metadata": {
    "collapsed": false,
    "deletable": true,
    "editable": true
   },
   "outputs": [],
   "source": [
    "def min_heapify(H, n):\n",
    "    l = left(n, H)\n",
    "    r = right(n, H)\n",
    "    minimum = None\n",
    "    \n",
    "    if exists(l, H) and H[l] < H[n]:\n",
    "        minimum = l\n",
    "    else:\n",
    "        minimum = n\n",
    "    if exists(r, H) and H[r] < H[minimum]:\n",
    "        minimum = r\n",
    "    if minimum != n:\n",
    "        value_minimum = H[minimum]\n",
    "        H[minimum] = H[n]\n",
    "        H[n] = value_minimum\n",
    "        H = min_heapify(H, minimum)\n",
    "    return H"
   ]
  },
  {
   "cell_type": "code",
   "execution_count": 173,
   "metadata": {
    "collapsed": false,
    "deletable": true,
    "editable": true
   },
   "outputs": [
    {
     "data": {
      "text/plain": [
       "[8, 9, 4, 7, 6, 5, 10, 3, 2, 1]"
      ]
     },
     "execution_count": 173,
     "metadata": {},
     "output_type": "execute_result"
    }
   ],
   "source": [
    "H = [10, 9, 8,7,6,5,4,3,2,1]\n",
    "min_heapify(H, 0)"
   ]
  },
  {
   "cell_type": "code",
   "execution_count": 170,
   "metadata": {
    "collapsed": false,
    "deletable": true,
    "editable": true
   },
   "outputs": [],
   "source": [
    "def build_heap(A):\n",
    "    start = len(A) / 2 - 1\n",
    "    H = A\n",
    "    for i in xrange(start, -1, -1):\n",
    "        H = min_heapify(H, i)\n",
    "    H = min_heapify(H, 0)\n",
    "    return H"
   ]
  },
  {
   "cell_type": "code",
   "execution_count": 172,
   "metadata": {
    "collapsed": false,
    "deletable": true,
    "editable": true
   },
   "outputs": [
    {
     "data": {
      "text/plain": [
       "array([ 0,  2,  1,  4,  3,  7,  6,  5,  9, 11,  8, 10, 12])"
      ]
     },
     "execution_count": 172,
     "metadata": {},
     "output_type": "execute_result"
    }
   ],
   "source": [
    "H = np.array([12,11, 10, 9, 8, 7, 6, 5, 4, 3, 2, 1, 0])\n",
    "build_heap(H)"
   ]
  },
  {
   "cell_type": "code",
   "execution_count": null,
   "metadata": {
    "collapsed": true,
    "deletable": true,
    "editable": true
   },
   "outputs": [],
   "source": [
    "\"\"\"\n",
    "124 programming optimizations:\n",
    "1. heaps\n",
    "2. min-heap\n",
    "3. heapify\n",
    "4. insert heaps\n",
    "5. throw out edges\n",
    "6. create graphs \n",
    "7. create distance\n",
    "\"\"\"\n"
   ]
  },
  {
   "cell_type": "code",
   "execution_count": 1,
   "metadata": {
    "collapsed": true,
    "deletable": true,
    "editable": true
   },
   "outputs": [],
   "source": [
    "\"\"\"\n",
    "given that left(n) and right(n) are min-heaps, return \n",
    "\"\"\"\n",
    "def min_heapify(a):\n",
    "    "
   ]
  },
  {
   "cell_type": "code",
   "execution_count": null,
   "metadata": {
    "collapsed": true,
    "deletable": true,
    "editable": true
   },
   "outputs": [],
   "source": [
    "heapify()"
   ]
  },
  {
   "cell_type": "code",
   "execution_count": 2,
   "metadata": {
    "collapsed": false,
    "deletable": true,
    "editable": true
   },
   "outputs": [],
   "source": [
    "N = 3\n",
    "num_trials = 5"
   ]
  },
  {
   "cell_type": "code",
   "execution_count": 3,
   "metadata": {
    "collapsed": true,
    "deletable": true,
    "editable": true
   },
   "outputs": [],
   "source": [
    "def mean(numbers):\n",
    "    return float(sum(numbers)) / max(len(numbers), 1)"
   ]
  },
  {
   "cell_type": "code",
   "execution_count": 4,
   "metadata": {
    "collapsed": true,
    "deletable": true,
    "editable": true
   },
   "outputs": [],
   "source": [
    "# for a complete graph, m = O(n^2)\n",
    "# create a graph, matrix representation\n",
    "\"\"\"\n",
    "createCompleteGraph(n) \n",
    "input n where n is the size of the node\n",
    "return \n",
    "\n",
    "input: {s:0}\n",
    "deletes smallest priority element\n",
    "\"\"\"\n",
    "\n",
    "def create_complete_graph(n):\n",
    "    vs = list(range(0, n))\n",
    "    graph = collections.defaultdict(dict)\n",
    "    for u in xrange(0, n):\n",
    "        weights = np.random.random_sample((1,n))[0]\n",
    "        for w in xrange(u+1,n):\n",
    "            graph[u][w] = weights[w]\n",
    "            graph[w][u] = weights[w]\n",
    "    return graph"
   ]
  },
  {
   "cell_type": "code",
   "execution_count": 5,
   "metadata": {
    "collapsed": true,
    "deletable": true,
    "editable": true
   },
   "outputs": [],
   "source": [
    "\"\"\"\n",
    "Delete min dict\n",
    "input: {s:0}\n",
    "deletes smallest priority element\n",
    "\"\"\"\n",
    "def delete_min_dict(H):\n",
    "    v = min(H, key=H.get)\n",
    "    edge_weight = H[v]\n",
    "    del H[v]\n",
    "    return v, edge_weight, H"
   ]
  },
  {
   "cell_type": "code",
   "execution_count": 6,
   "metadata": {
    "collapsed": false,
    "deletable": true,
    "editable": true
   },
   "outputs": [
    {
     "name": "stdout",
     "output_type": "stream",
     "text": [
      "s 0 {'a': 100, 'b': 3}\n"
     ]
    }
   ],
   "source": [
    "v, edge_weight, H = delete_min_dict({\"s\":0, \"a\": 100, \"b\": 3})\n",
    "print v, edge_weight, H"
   ]
  },
  {
   "cell_type": "code",
   "execution_count": 7,
   "metadata": {
    "collapsed": false,
    "deletable": true,
    "editable": true
   },
   "outputs": [],
   "source": [
    "\"\"\"\n",
    "Prim's algorithm\n",
    "takes a graph of size n\n",
    "returns a tree\n",
    "\"\"\"\n",
    "def prim(graph, n):\n",
    "    # keep \n",
    "    dist= collections.defaultdict(int)\n",
    "    # keep track of previous node for each vertex v\n",
    "    prev = collections.defaultdict(int)\n",
    "    vs = list(range(0, n))\n",
    "    for v in vs:\n",
    "        dist[v] = float(\"inf\")\n",
    "    s = 0\n",
    "    dist[s] = 0\n",
    "\n",
    "    # for now, heap to keep track of what to add is just an array\n",
    "    H = {s:0}\n",
    "    T = {}\n",
    "    edge_weights = []\n",
    "    while H != {}:\n",
    "        v, edge_weight, H = delete_min_dict(H)\n",
    "        T[v] = edge_weight\n",
    "        edge_weights.append(edge_weight)\n",
    "        # loop through all the edges of graph (v,w) not already connected in the current tree\n",
    "        \n",
    "        nodes_in_other_cut = list(set(range(0,n)) - set(T.keys()))\n",
    "        for w in nodes_in_other_cut:\n",
    "            \n",
    "            weight_vw = graph[v][w]\n",
    "            \n",
    "            if dist[w] > weight_vw:\n",
    "                dist[w] = weight_vw\n",
    "                prev[w] = v\n",
    "                # replace later with distance of w\n",
    "                H[w] = dist[w]\n",
    "    return T, sum(edge_weights)\n",
    "            "
   ]
  },
  {
   "cell_type": "code",
   "execution_count": null,
   "metadata": {
    "collapsed": true
   },
   "outputs": [],
   "source": [
    "\"\"\"\n",
    "Prim's algorithm\n",
    "takes a graph of size n\n",
    "returns a tree\n",
    "\"\"\"\n",
    "def prims(graph, n):\n",
    "    # keep \n",
    "    dist= collections.defaultdict(int)\n",
    "    # keep track of previous node for each vertex v\n",
    "    prev = collections.defaultdict(int)\n",
    "    vs = list(range(0, n))\n",
    "    for v in vs:\n",
    "        dist[v] = float(\"inf\")\n",
    "    s = 0\n",
    "    dist[s] = 0\n",
    "\n",
    "    # for now, heap to keep track of what to add is just an array\n",
    "    H = {s:0}\n",
    "    T = {}\n",
    "    edge_weights = []\n",
    "    while H != {}:\n",
    "        v, edge_weight, H = delete_min_dict(H)\n",
    "        T[v] = edge_weight\n",
    "        edge_weights.append(edge_weight)\n",
    "        # loop through all the edges of graph (v,w) not already connected in the current tree\n",
    "        \n",
    "        nodes_in_other_cut = list(set(range(0,n)) - set(T.keys()))\n",
    "        for w in nodes_in_other_cut:\n",
    "            \n",
    "            weight_vw = graph[v][w]\n",
    "            \n",
    "            if dist[w] > weight_vw:\n",
    "                dist[w] = weight_vw\n",
    "                prev[w] = v\n",
    "                # replace later with distance of w\n",
    "                H[w] = dist[w]\n",
    "    return T, sum(edge_weights)\n",
    "            "
   ]
  },
  {
   "cell_type": "code",
   "execution_count": 8,
   "metadata": {
    "collapsed": false,
    "deletable": true,
    "editable": true,
    "scrolled": true
   },
   "outputs": [],
   "source": [
    "# graph with nodes {0, .., n}, 0 represents no edge, and otherwise it's the weight\n",
    "graph = create_complete_graph(N)"
   ]
  },
  {
   "cell_type": "code",
   "execution_count": 9,
   "metadata": {
    "collapsed": false
   },
   "outputs": [
    {
     "data": {
      "text/plain": [
       "defaultdict(dict,\n",
       "            {0: {1: 0.17480677454243643, 2: 0.79156483123911214},\n",
       "             1: {0: 0.17480677454243643, 2: 0.56775487757825815},\n",
       "             2: {0: 0.79156483123911214, 1: 0.56775487757825815}})"
      ]
     },
     "execution_count": 9,
     "metadata": {},
     "output_type": "execute_result"
    }
   ],
   "source": [
    "graph"
   ]
  },
  {
   "cell_type": "code",
   "execution_count": 12,
   "metadata": {
    "collapsed": false,
    "deletable": true,
    "editable": true
   },
   "outputs": [
    {
     "data": {
      "text/plain": [
       "{0: 0, 1: 0.17480677454243643, 2: 0.56775487757825815}"
      ]
     },
     "execution_count": 12,
     "metadata": {},
     "output_type": "execute_result"
    }
   ],
   "source": [
    "T, weight = prim(graph, N)\n",
    "T"
   ]
  },
  {
   "cell_type": "code",
   "execution_count": 68,
   "metadata": {
    "collapsed": false,
    "deletable": true,
    "editable": true
   },
   "outputs": [],
   "source": [
    "def get_average(num_trials, N):\n",
    "    maxes = []\n",
    "    weights = []\n",
    "    for i in xrange(0, num_trials):\n",
    "        graph = create_complete_graph(N)\n",
    "        T, weight = prim(graph, N)\n",
    "        weights.append(weight)\n",
    "        max_el = max(T.values())\n",
    "        maxes.append(max_el)\n",
    "        print \"finished graph\" + str(i)\n",
    "    return max(maxes), mean(weights)"
   ]
  },
  {
   "cell_type": "code",
   "execution_count": 60,
   "metadata": {
    "collapsed": false,
    "deletable": true,
    "editable": true
   },
   "outputs": [
    {
     "data": {
      "text/plain": [
       "(0.046426251851816036, 1.169934676237847)"
      ]
     },
     "execution_count": 60,
     "metadata": {},
     "output_type": "execute_result"
    }
   ],
   "source": [
    "max_of_maxes, mean_weights = get_average(5, 128)\n",
    "max_of_maxes, mean_weights"
   ]
  },
  {
   "cell_type": "code",
   "execution_count": 62,
   "metadata": {
    "collapsed": false,
    "deletable": true,
    "editable": true
   },
   "outputs": [
    {
     "data": {
      "text/plain": [
       "(0.035754386273576522, 1.1771354666805187)"
      ]
     },
     "execution_count": 62,
     "metadata": {},
     "output_type": "execute_result"
    }
   ],
   "source": [
    "max_of_maxes, mean_weights = get_average(5, 256)\n",
    "max_of_maxes, mean_weights"
   ]
  },
  {
   "cell_type": "code",
   "execution_count": 63,
   "metadata": {
    "collapsed": false,
    "deletable": true,
    "editable": true
   },
   "outputs": [
    {
     "data": {
      "text/plain": [
       "(0.015909810493161314, 1.1993553425262522)"
      ]
     },
     "execution_count": 63,
     "metadata": {},
     "output_type": "execute_result"
    }
   ],
   "source": [
    "max_of_maxes, mean_weights = get_average(5, 512)\n",
    "max_of_maxes, mean_weights"
   ]
  },
  {
   "cell_type": "code",
   "execution_count": 64,
   "metadata": {
    "collapsed": false,
    "deletable": true,
    "editable": true
   },
   "outputs": [
    {
     "data": {
      "text/plain": [
       "(0.0086816251126792254, 1.2322608224153953)"
      ]
     },
     "execution_count": 64,
     "metadata": {},
     "output_type": "execute_result"
    }
   ],
   "source": [
    "max_of_maxes, mean_weights = get_average(5, 1024)\n",
    "max_of_maxes, mean_weights"
   ]
  },
  {
   "cell_type": "code",
   "execution_count": 65,
   "metadata": {
    "collapsed": false,
    "deletable": true,
    "editable": true
   },
   "outputs": [
    {
     "data": {
      "text/plain": [
       "(0.0044474516063160996, 1.2072471374985294)"
      ]
     },
     "execution_count": 65,
     "metadata": {},
     "output_type": "execute_result"
    }
   ],
   "source": [
    "max_of_maxes, mean_weights = get_average(5, 2048)\n",
    "max_of_maxes, mean_weights"
   ]
  },
  {
   "cell_type": "code",
   "execution_count": 69,
   "metadata": {
    "collapsed": false,
    "deletable": true,
    "editable": true
   },
   "outputs": [
    {
     "name": "stdout",
     "output_type": "stream",
     "text": [
      "finished graph0\n",
      "finished graph1\n",
      "finished graph2\n",
      "finished graph3\n",
      "finished graph4\n"
     ]
    },
    {
     "data": {
      "text/plain": [
       "(0.0021721867253102767, 1.1942345620653498)"
      ]
     },
     "execution_count": 69,
     "metadata": {},
     "output_type": "execute_result"
    }
   ],
   "source": [
    "max_of_maxes, mean_weights = get_average(5, 4096)\n",
    "max_of_maxes, mean_weights"
   ]
  },
  {
   "cell_type": "code",
   "execution_count": 71,
   "metadata": {
    "collapsed": false,
    "deletable": true,
    "editable": true
   },
   "outputs": [
    {
     "name": "stdout",
     "output_type": "stream",
     "text": [
      "finished graph0\n",
      "finished graph1\n",
      "finished graph2\n",
      "finished graph3\n",
      "finished graph4\n"
     ]
    },
    {
     "data": {
      "text/plain": [
       "(0.0014452746846329578, 1.2004504318880531)"
      ]
     },
     "execution_count": 71,
     "metadata": {},
     "output_type": "execute_result"
    }
   ],
   "source": [
    "max_of_maxes, mean_weights = get_average(5, 8192)\n",
    "max_of_maxes, mean_weights"
   ]
  },
  {
   "cell_type": "code",
   "execution_count": null,
   "metadata": {
    "collapsed": true,
    "deletable": true,
    "editable": true
   },
   "outputs": [],
   "source": [
    "max_of_maxes, mean_weights = get_average(5, 16384)\n",
    "max_of_maxes, mean_weights"
   ]
  },
  {
   "cell_type": "code",
   "execution_count": null,
   "metadata": {
    "collapsed": true,
    "deletable": true,
    "editable": true
   },
   "outputs": [],
   "source": [
    "max_of_maxes, mean_weights = get_average(5, 32768)\n",
    "max_of_maxes, mean_weights"
   ]
  },
  {
   "cell_type": "code",
   "execution_count": null,
   "metadata": {
    "collapsed": true,
    "deletable": true,
    "editable": true
   },
   "outputs": [],
   "source": [
    "max_of_maxes, mean_weights = get_average(5, 65536)\n",
    "max_of_maxes, mean_weights"
   ]
  }
 ],
 "metadata": {
  "kernelspec": {
   "display_name": "Python 2",
   "language": "python",
   "name": "python2"
  },
  "language_info": {
   "codemirror_mode": {
    "name": "ipython",
    "version": 2
   },
   "file_extension": ".py",
   "mimetype": "text/x-python",
   "name": "python",
   "nbconvert_exporter": "python",
   "pygments_lexer": "ipython2",
   "version": "2.7.10"
  }
 },
 "nbformat": 4,
 "nbformat_minor": 2
}
