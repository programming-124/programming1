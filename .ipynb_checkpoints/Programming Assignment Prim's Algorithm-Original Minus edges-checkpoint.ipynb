{
 "cells": [
  {
   "cell_type": "code",
   "execution_count": 3,
   "metadata": {
    "collapsed": true,
    "deletable": true,
    "editable": true
   },
   "outputs": [],
   "source": [
    "import numpy as np\n",
    "import pandas as pd\n",
    "import math\n",
    "import random\n",
    "import matplotlib.pyplot as plt\n",
    "def mean(numbers):\n",
    "    return float(sum(numbers)) / max(len(numbers), 1)\n",
    "import collections\n",
    "from collections import Counter\n",
    "import seaborn as sns\n",
    "%matplotlib inline"
   ]
  },
  {
   "cell_type": "code",
   "execution_count": 46,
   "metadata": {
    "collapsed": false,
    "deletable": true,
    "editable": true
   },
   "outputs": [],
   "source": [
    "def exists(index, H):\n",
    "    if index < len(H):\n",
    "        return True\n",
    "    return False"
   ]
  },
  {
   "cell_type": "code",
   "execution_count": 70,
   "metadata": {
    "collapsed": false,
    "deletable": true,
    "editable": true
   },
   "outputs": [],
   "source": [
    "## values might not exist!!!\n",
    "def parent(index, H):\n",
    "    return index/2\n",
    "def left(index, H):\n",
    "    return 2*(index + 1) - 1\n",
    "def right(index, H):\n",
    "    return 2*(index + 1)"
   ]
  },
  {
   "cell_type": "code",
   "execution_count": 171,
   "metadata": {
    "collapsed": false,
    "deletable": true,
    "editable": true
   },
   "outputs": [],
   "source": [
    "def min_heapify(H, n):\n",
    "    l = left(n, H)\n",
    "    r = right(n, H)\n",
    "    minimum = None\n",
    "    \n",
    "    if exists(l, H) and H[l] < H[n]:\n",
    "        minimum = l\n",
    "    else:\n",
    "        minimum = n\n",
    "    if exists(r, H) and H[r] < H[minimum]:\n",
    "        minimum = r\n",
    "    if minimum != n:\n",
    "        value_minimum = H[minimum]\n",
    "        H[minimum] = H[n]\n",
    "        H[n] = value_minimum\n",
    "        H = min_heapify(H, minimum)\n",
    "    return H"
   ]
  },
  {
   "cell_type": "code",
   "execution_count": 173,
   "metadata": {
    "collapsed": false,
    "deletable": true,
    "editable": true
   },
   "outputs": [
    {
     "data": {
      "text/plain": [
       "[8, 9, 4, 7, 6, 5, 10, 3, 2, 1]"
      ]
     },
     "execution_count": 173,
     "metadata": {},
     "output_type": "execute_result"
    }
   ],
   "source": [
    "H = [10, 9, 8,7,6,5,4,3,2,1]\n",
    "min_heapify(H, 0)"
   ]
  },
  {
   "cell_type": "code",
   "execution_count": 170,
   "metadata": {
    "collapsed": false,
    "deletable": true,
    "editable": true
   },
   "outputs": [],
   "source": [
    "def build_heap(A):\n",
    "    start = len(A) / 2 - 1\n",
    "    H = A\n",
    "    for i in xrange(start, -1, -1):\n",
    "        H = min_heapify(H, i)\n",
    "    H = min_heapify(H, 0)\n",
    "    return H"
   ]
  },
  {
   "cell_type": "code",
   "execution_count": 172,
   "metadata": {
    "collapsed": false,
    "deletable": true,
    "editable": true
   },
   "outputs": [
    {
     "data": {
      "text/plain": [
       "array([ 0,  2,  1,  4,  3,  7,  6,  5,  9, 11,  8, 10, 12])"
      ]
     },
     "execution_count": 172,
     "metadata": {},
     "output_type": "execute_result"
    }
   ],
   "source": [
    "H = np.array([12,11, 10, 9, 8, 7, 6, 5, 4, 3, 2, 1, 0])\n",
    "build_heap(H)"
   ]
  },
  {
   "cell_type": "code",
   "execution_count": null,
   "metadata": {
    "collapsed": true,
    "deletable": true,
    "editable": true
   },
   "outputs": [],
   "source": [
    "\"\"\"\n",
    "124 programming optimizations:\n",
    "1. heaps\n",
    "2. min-heap\n",
    "3. heapify\n",
    "4. insert heaps\n",
    "5. throw out edges\n",
    "6. create graphs \n",
    "7. create distance\n",
    "\"\"\"\n"
   ]
  },
  {
   "cell_type": "code",
   "execution_count": 1,
   "metadata": {
    "collapsed": true,
    "deletable": true,
    "editable": true
   },
   "outputs": [],
   "source": [
    "\"\"\"\n",
    "given that left(n) and right(n) are min-heaps, return \n",
    "\"\"\"\n",
    "def min_heapify(a):\n",
    "    "
   ]
  },
  {
   "cell_type": "code",
   "execution_count": null,
   "metadata": {
    "collapsed": true,
    "deletable": true,
    "editable": true
   },
   "outputs": [],
   "source": [
    "heapify()"
   ]
  },
  {
   "cell_type": "code",
   "execution_count": 4,
   "metadata": {
    "collapsed": false,
    "deletable": true,
    "editable": true
   },
   "outputs": [],
   "source": [
    "N = 128\n",
    "num_trials = 5"
   ]
  },
  {
   "cell_type": "code",
   "execution_count": 5,
   "metadata": {
    "collapsed": true,
    "deletable": true,
    "editable": true
   },
   "outputs": [],
   "source": [
    "def mean(numbers):\n",
    "    return float(sum(numbers)) / max(len(numbers), 1)"
   ]
  },
  {
   "cell_type": "code",
   "execution_count": 6,
   "metadata": {
    "collapsed": false,
    "deletable": true,
    "editable": true
   },
   "outputs": [
    {
     "ename": "SyntaxError",
     "evalue": "invalid syntax (<ipython-input-6-a2296d623562>, line 1)",
     "output_type": "error",
     "traceback": [
      "\u001b[0;36m  File \u001b[0;32m\"<ipython-input-6-a2296d623562>\"\u001b[0;36m, line \u001b[0;32m1\u001b[0m\n\u001b[0;31m    MIN_VALUE =\u001b[0m\n\u001b[0m                ^\u001b[0m\n\u001b[0;31mSyntaxError\u001b[0m\u001b[0;31m:\u001b[0m invalid syntax\n"
     ]
    }
   ],
   "source": [
    "MIN_VALUE = "
   ]
  },
  {
   "cell_type": "code",
   "execution_count": 18,
   "metadata": {
    "collapsed": true,
    "deletable": true,
    "editable": true
   },
   "outputs": [],
   "source": [
    "large_graph = 3\n",
    "max_weight = 0.94452746846329578"
   ]
  },
  {
   "cell_type": "code",
   "execution_count": 22,
   "metadata": {
    "collapsed": false
   },
   "outputs": [
    {
     "data": {
      "text/plain": [
       "0.44463524066271076"
      ]
     },
     "execution_count": 22,
     "metadata": {},
     "output_type": "execute_result"
    }
   ],
   "source": [
    "weights = np.random.random_sample((4,1))\n",
    "weights[2][0]"
   ]
  },
  {
   "cell_type": "code",
   "execution_count": 48,
   "metadata": {
    "collapsed": false,
    "deletable": true,
    "editable": true
   },
   "outputs": [],
   "source": [
    "# for a complete graph, m = O(n^2)\n",
    "# create a graph, matrix representation\n",
    "\"\"\"\n",
    "createCompleteGraph(n) \n",
    "input n where n is the size of the node\n",
    "return \n",
    "\n",
    "input: {s:0}\n",
    "deletes smallest priority element\n",
    "\"\"\"\n",
    "\n",
    "def create_complete_graph(n):\n",
    "    vs = list(range(0, n))\n",
    "    graph = collections.defaultdict(dict)\n",
    "    for u in xrange(0, n):\n",
    "        weights = np.random.random_sample((1,n))[0]\n",
    "        for w in xrange(u+1,n):\n",
    "            if n >= large_graph:\n",
    "                if weights[w] < max_weight:\n",
    "                    graph[u][w] = weights[w]\n",
    "                    graph[w][u] = weights[w]\n",
    "            else:\n",
    "                graph[u][w] = weights[w]\n",
    "                graph[w][u] = weights[w]\n",
    "    return graph"
   ]
  },
  {
   "cell_type": "code",
   "execution_count": 47,
   "metadata": {
    "collapsed": false
   },
   "outputs": [],
   "source": [
    "# for a complete graph, m = O(n^2)\n",
    "# create a graph, matrix representation\n",
    "\"\"\"\n",
    "createCompleteGraph(n) \n",
    "input n where n is the size of the node\n",
    "return \n",
    "\n",
    "input: {s:0}\n",
    "deletes smallest priority element\n",
    "\"\"\"\n",
    "\n",
    "def create_complete_graph_dimensional(n, d):\n",
    "    vs = list(range(0, n))\n",
    "    graph = collections.defaultdict(dict)\n",
    "    points = np.random.random_sample((n,d))\n",
    "    for u in xrange(0, n):\n",
    "        for w in xrange(u+1,n):\n",
    "            print points[u]\n",
    "            print points[w]\n",
    "            weight = np.linalg.norm(points[u]-points[w])\n",
    "            if n >= large_graph:\n",
    "                if weight < max_weight:\n",
    "                    graph[u][w] = weight\n",
    "                    graph[w][u] = weight\n",
    "            else:\n",
    "                graph[u][w] = weight\n",
    "                graph[w][u] = weight\n",
    "    return graph"
   ]
  },
  {
   "cell_type": "code",
   "execution_count": 46,
   "metadata": {
    "collapsed": false
   },
   "outputs": [
    {
     "data": {
      "text/plain": [
       "0.80291287500804687"
      ]
     },
     "execution_count": 46,
     "metadata": {},
     "output_type": "execute_result"
    }
   ],
   "source": [
    "np.linalg.norm(np.array([ 0.71822438, 0.26415184, 0.65469036, 0.01583423]) - np.array([ 0.7416264,0.90697458, 0.17470622, 0.03854063]))"
   ]
  },
  {
   "cell_type": "code",
   "execution_count": 53,
   "metadata": {
    "collapsed": true,
    "deletable": true,
    "editable": true
   },
   "outputs": [],
   "source": [
    "\"\"\"\n",
    "Delete min dict\n",
    "input: {s:0}\n",
    "deletes smallest priority element\n",
    "\"\"\"\n",
    "def delete_min_dict(H):\n",
    "    v = min(H, key=H.get)\n",
    "    edge_weight = H[v]\n",
    "    del H[v]\n",
    "    return v, edge_weight, H"
   ]
  },
  {
   "cell_type": "code",
   "execution_count": 11,
   "metadata": {
    "collapsed": false,
    "deletable": true,
    "editable": true
   },
   "outputs": [
    {
     "name": "stdout",
     "output_type": "stream",
     "text": [
      "s 0 {'a': 100, 'b': 3}\n"
     ]
    }
   ],
   "source": [
    "v, edge_weight, H = delete_min_dict({\"s\":0, \"a\": 100, \"b\": 3})\n",
    "print v, edge_weight, H"
   ]
  },
  {
   "cell_type": "code",
   "execution_count": 52,
   "metadata": {
    "collapsed": false,
    "deletable": true,
    "editable": true
   },
   "outputs": [],
   "source": [
    "\"\"\"\n",
    "Prim's algorithm\n",
    "takes a graph of size n\n",
    "returns a tree\n",
    "\"\"\"\n",
    "def prim(graph, n):\n",
    "    # keep \n",
    "    dist= collections.defaultdict(int)\n",
    "    # keep track of previous node for each vertex v\n",
    "    prev = collections.defaultdict(int)\n",
    "    vs = list(range(0, n))\n",
    "    for v in vs:\n",
    "        dist[v] = float(\"inf\")\n",
    "    s = 0\n",
    "    dist[s] = 0\n",
    "\n",
    "    # for now, heap to keep track of what to add is just an array\n",
    "    H = {s:0}\n",
    "    T = {}\n",
    "    edge_weights = []\n",
    "    while H != {}:\n",
    "        v, edge_weight, H = delete_min_dict(H)\n",
    "        T[v] = edge_weight\n",
    "        edge_weights.append(edge_weight)\n",
    "        # loop through all the edges of graph (v,w) not already connected in the current tree\n",
    "        \n",
    "        nodes_in_other_cut = list(set(range(0,n)) - set(T.keys()))\n",
    "        \n",
    "        for w in nodes_in_other_cut:\n",
    "            try:\n",
    "                weight_vw = graph[v][w]\n",
    "\n",
    "                if dist[w] > weight_vw:\n",
    "                    dist[w] = weight_vw\n",
    "                    prev[w] = v\n",
    "                    # replace later with distance of w\n",
    "                    H[w] = dist[w]\n",
    "            except:\n",
    "                pass\n",
    "    return T, sum(edge_weights)\n",
    "            "
   ]
  },
  {
   "cell_type": "code",
   "execution_count": 57,
   "metadata": {
    "collapsed": true
   },
   "outputs": [],
   "source": [
    "\"\"\"\n",
    "Prim's algorithm\n",
    "takes a graph of size n\n",
    "returns a tree\n",
    "\"\"\"\n",
    "def prims(graph, n):\n",
    "    # keep \n",
    "    dist= collections.defaultdict(int)\n",
    "    # keep track of previous node for each vertex v\n",
    "    prev = collections.defaultdict(int)\n",
    "    vs = list(range(0, n))\n",
    "    for v in vs:\n",
    "        dist[v] = float(\"inf\")\n",
    "    s = 0\n",
    "    dist[s] = 0\n",
    "\n",
    "    # for now, heap to keep track of what to add is just an array\n",
    "    H = {s:0}\n",
    "    T = {}\n",
    "    edge_weights = []\n",
    "    while H != {}:\n",
    "        v, edge_weight, H = delete_min_dict(H)\n",
    "        T[v] = edge_weight\n",
    "        edge_weights.append(edge_weight)\n",
    "        # loop through all the edges of graph (v,w) not already connected in the current tree\n",
    "        \n",
    "        nodes_in_other_cut = list(set(range(0,n)) - set(T.keys()))\n",
    "        for edge in graph[v]:\n",
    "            print edge\n",
    "            break\n",
    "        for w in nodes_in_other_cut:\n",
    "            try:\n",
    "                weight_vw = graph[v][w]\n",
    "\n",
    "                if dist[w] > weight_vw:\n",
    "                    dist[w] = weight_vw\n",
    "                    prev[w] = v\n",
    "                    # replace later with distance of w\n",
    "                    H[w] = dist[w]\n",
    "            except:\n",
    "                pass\n",
    "    return T, sum(edge_weights)"
   ]
  },
  {
   "cell_type": "code",
   "execution_count": 49,
   "metadata": {
    "collapsed": false,
    "deletable": true,
    "editable": true,
    "scrolled": true
   },
   "outputs": [],
   "source": [
    "# graph with nodes {0, .., n}, 0 represents no edge, and otherwise it's the weight\n",
    "graph = create_complete_graph(3)"
   ]
  },
  {
   "cell_type": "code",
   "execution_count": 50,
   "metadata": {
    "collapsed": false,
    "deletable": true,
    "editable": true
   },
   "outputs": [
    {
     "data": {
      "text/plain": [
       "defaultdict(dict,\n",
       "            {0: {1: 0.56776323164062226, 2: 0.25575598104001829},\n",
       "             1: {0: 0.56776323164062226},\n",
       "             2: {0: 0.25575598104001829}})"
      ]
     },
     "execution_count": 50,
     "metadata": {},
     "output_type": "execute_result"
    }
   ],
   "source": [
    "graph"
   ]
  },
  {
   "cell_type": "code",
   "execution_count": 55,
   "metadata": {
    "collapsed": false,
    "deletable": true,
    "editable": true
   },
   "outputs": [],
   "source": [
    "T, weight = prim(graph, 3)"
   ]
  },
  {
   "cell_type": "code",
   "execution_count": 56,
   "metadata": {
    "collapsed": false,
    "deletable": true,
    "editable": true
   },
   "outputs": [
    {
     "data": {
      "text/plain": [
       "{0: 0, 1: 0.56776323164062226, 2: 0.25575598104001829}"
      ]
     },
     "execution_count": 56,
     "metadata": {},
     "output_type": "execute_result"
    }
   ],
   "source": [
    "T"
   ]
  },
  {
   "cell_type": "code",
   "execution_count": 19,
   "metadata": {
    "collapsed": false,
    "deletable": true,
    "editable": true
   },
   "outputs": [],
   "source": [
    "def get_average(num_trials, N):\n",
    "    maxes = []\n",
    "    weights = []\n",
    "    for i in xrange(0, num_trials):\n",
    "        graph = create_complete_graph(N)\n",
    "        T, weight = prim(graph, N)\n",
    "        weights.append(weight)\n",
    "        max_el = max(T.values())\n",
    "        maxes.append(max_el)\n",
    "#         print \"finished graph\" + str(i)\n",
    "    return max(maxes), mean(weights)"
   ]
  },
  {
   "cell_type": "code",
   "execution_count": 16,
   "metadata": {
    "collapsed": false,
    "deletable": true,
    "editable": true
   },
   "outputs": [
    {
     "name": "stdout",
     "output_type": "stream",
     "text": [
      "finished graph0\n",
      "finished graph1\n",
      "finished graph2\n",
      "finished graph3\n",
      "finished graph4\n",
      "finished graph5\n",
      "finished graph6\n",
      "finished graph7\n",
      "finished graph8\n",
      "finished graph9\n",
      "finished graph10\n",
      "finished graph11\n",
      "finished graph12\n",
      "finished graph13\n",
      "finished graph14\n",
      "finished graph15\n",
      "finished graph16\n",
      "finished graph17\n",
      "finished graph18\n",
      "finished graph19\n",
      "finished graph20\n",
      "finished graph21\n",
      "finished graph22\n",
      "finished graph23\n",
      "finished graph24\n",
      "finished graph25\n",
      "finished graph26\n",
      "finished graph27\n",
      "finished graph28\n",
      "finished graph29\n",
      "finished graph30\n",
      "finished graph31\n",
      "finished graph32\n",
      "finished graph33\n",
      "finished graph34\n",
      "finished graph35\n",
      "finished graph36\n",
      "finished graph37\n",
      "finished graph38\n",
      "finished graph39\n",
      "finished graph40\n",
      "finished graph41\n",
      "finished graph42\n",
      "finished graph43\n",
      "finished graph44\n",
      "finished graph45\n",
      "finished graph46\n",
      "finished graph47\n",
      "finished graph48\n",
      "finished graph49\n",
      "finished graph50\n",
      "finished graph51\n",
      "finished graph52\n",
      "finished graph53\n",
      "finished graph54\n",
      "finished graph55\n",
      "finished graph56\n",
      "finished graph57\n",
      "finished graph58\n",
      "finished graph59\n",
      "finished graph60\n",
      "finished graph61\n",
      "finished graph62\n",
      "finished graph63\n",
      "finished graph64\n",
      "finished graph65\n",
      "finished graph66\n",
      "finished graph67\n",
      "finished graph68\n",
      "finished graph69\n",
      "finished graph70\n",
      "finished graph71\n",
      "finished graph72\n",
      "finished graph73\n",
      "finished graph74\n",
      "finished graph75\n",
      "finished graph76\n",
      "finished graph77\n",
      "finished graph78\n",
      "finished graph79\n",
      "finished graph80\n",
      "finished graph81\n",
      "finished graph82\n",
      "finished graph83\n",
      "finished graph84\n",
      "finished graph85\n",
      "finished graph86\n",
      "finished graph87\n",
      "finished graph88\n",
      "finished graph89\n",
      "finished graph90\n",
      "finished graph91\n",
      "finished graph92\n",
      "finished graph93\n",
      "finished graph94\n",
      "finished graph95\n",
      "finished graph96\n",
      "finished graph97\n",
      "finished graph98\n",
      "finished graph99\n"
     ]
    },
    {
     "data": {
      "text/plain": [
       "(0.079919054838956893, 1.1862735248748353)"
      ]
     },
     "execution_count": 16,
     "metadata": {},
     "output_type": "execute_result"
    }
   ],
   "source": [
    "max_of_maxes, mean_weights = get_average(100, 128)\n",
    "max_of_maxes, mean_weights"
   ]
  },
  {
   "cell_type": "code",
   "execution_count": 17,
   "metadata": {
    "collapsed": false,
    "deletable": true,
    "editable": true
   },
   "outputs": [
    {
     "name": "stdout",
     "output_type": "stream",
     "text": [
      "finished graph0\n",
      "finished graph1\n",
      "finished graph2\n",
      "finished graph3\n",
      "finished graph4\n",
      "finished graph5\n",
      "finished graph6\n",
      "finished graph7\n",
      "finished graph8\n",
      "finished graph9\n",
      "finished graph10\n",
      "finished graph11\n",
      "finished graph12\n",
      "finished graph13\n",
      "finished graph14\n",
      "finished graph15\n",
      "finished graph16\n",
      "finished graph17\n",
      "finished graph18\n",
      "finished graph19\n",
      "finished graph20\n",
      "finished graph21\n",
      "finished graph22\n",
      "finished graph23\n",
      "finished graph24\n",
      "finished graph25\n",
      "finished graph26\n",
      "finished graph27\n",
      "finished graph28\n",
      "finished graph29\n",
      "finished graph30\n",
      "finished graph31\n",
      "finished graph32\n",
      "finished graph33\n",
      "finished graph34\n",
      "finished graph35\n",
      "finished graph36\n",
      "finished graph37\n",
      "finished graph38\n",
      "finished graph39\n",
      "finished graph40\n",
      "finished graph41\n",
      "finished graph42\n",
      "finished graph43\n",
      "finished graph44\n",
      "finished graph45\n",
      "finished graph46\n",
      "finished graph47\n",
      "finished graph48\n",
      "finished graph49\n",
      "finished graph50\n",
      "finished graph51\n",
      "finished graph52\n",
      "finished graph53\n",
      "finished graph54\n",
      "finished graph55\n",
      "finished graph56\n",
      "finished graph57\n",
      "finished graph58\n",
      "finished graph59\n",
      "finished graph60\n",
      "finished graph61\n",
      "finished graph62\n",
      "finished graph63\n",
      "finished graph64\n",
      "finished graph65\n",
      "finished graph66\n",
      "finished graph67\n",
      "finished graph68\n",
      "finished graph69\n",
      "finished graph70\n",
      "finished graph71\n",
      "finished graph72\n",
      "finished graph73\n",
      "finished graph74\n",
      "finished graph75\n",
      "finished graph76\n",
      "finished graph77\n",
      "finished graph78\n",
      "finished graph79\n",
      "finished graph80\n",
      "finished graph81\n",
      "finished graph82\n",
      "finished graph83\n",
      "finished graph84\n",
      "finished graph85\n",
      "finished graph86\n",
      "finished graph87\n",
      "finished graph88\n",
      "finished graph89\n",
      "finished graph90\n",
      "finished graph91\n",
      "finished graph92\n",
      "finished graph93\n",
      "finished graph94\n",
      "finished graph95\n",
      "finished graph96\n",
      "finished graph97\n",
      "finished graph98\n",
      "finished graph99\n"
     ]
    },
    {
     "data": {
      "text/plain": [
       "(0.036524623939714784, 1.2004455041082405)"
      ]
     },
     "execution_count": 17,
     "metadata": {},
     "output_type": "execute_result"
    }
   ],
   "source": [
    "max_of_maxes, mean_weights = get_average(100, 256)\n",
    "max_of_maxes, mean_weights"
   ]
  },
  {
   "cell_type": "code",
   "execution_count": 18,
   "metadata": {
    "collapsed": false,
    "deletable": true,
    "editable": true
   },
   "outputs": [
    {
     "name": "stdout",
     "output_type": "stream",
     "text": [
      "finished graph0\n",
      "finished graph1\n",
      "finished graph2\n",
      "finished graph3\n",
      "finished graph4\n",
      "finished graph5\n",
      "finished graph6\n",
      "finished graph7\n",
      "finished graph8\n",
      "finished graph9\n",
      "finished graph10\n",
      "finished graph11\n",
      "finished graph12\n",
      "finished graph13\n",
      "finished graph14\n",
      "finished graph15\n",
      "finished graph16\n",
      "finished graph17\n",
      "finished graph18\n",
      "finished graph19\n",
      "finished graph20\n",
      "finished graph21\n",
      "finished graph22\n",
      "finished graph23\n",
      "finished graph24\n",
      "finished graph25\n",
      "finished graph26\n",
      "finished graph27\n",
      "finished graph28\n",
      "finished graph29\n",
      "finished graph30\n",
      "finished graph31\n",
      "finished graph32\n",
      "finished graph33\n",
      "finished graph34\n",
      "finished graph35\n",
      "finished graph36\n",
      "finished graph37\n",
      "finished graph38\n",
      "finished graph39\n",
      "finished graph40\n",
      "finished graph41\n",
      "finished graph42\n",
      "finished graph43\n",
      "finished graph44\n",
      "finished graph45\n",
      "finished graph46\n",
      "finished graph47\n",
      "finished graph48\n",
      "finished graph49\n",
      "finished graph50\n",
      "finished graph51\n",
      "finished graph52\n",
      "finished graph53\n",
      "finished graph54\n",
      "finished graph55\n",
      "finished graph56\n",
      "finished graph57\n",
      "finished graph58\n",
      "finished graph59\n",
      "finished graph60\n",
      "finished graph61\n",
      "finished graph62\n",
      "finished graph63\n",
      "finished graph64\n",
      "finished graph65\n",
      "finished graph66\n",
      "finished graph67\n",
      "finished graph68\n",
      "finished graph69\n",
      "finished graph70\n",
      "finished graph71\n",
      "finished graph72\n",
      "finished graph73\n",
      "finished graph74\n",
      "finished graph75\n",
      "finished graph76\n",
      "finished graph77\n",
      "finished graph78\n",
      "finished graph79\n",
      "finished graph80\n",
      "finished graph81\n",
      "finished graph82\n",
      "finished graph83\n",
      "finished graph84\n",
      "finished graph85\n",
      "finished graph86\n",
      "finished graph87\n",
      "finished graph88\n",
      "finished graph89\n",
      "finished graph90\n",
      "finished graph91\n",
      "finished graph92\n",
      "finished graph93\n",
      "finished graph94\n",
      "finished graph95\n",
      "finished graph96\n",
      "finished graph97\n",
      "finished graph98\n",
      "finished graph99\n"
     ]
    },
    {
     "data": {
      "text/plain": [
       "(0.020579014162472986, 1.2013563904731095)"
      ]
     },
     "execution_count": 18,
     "metadata": {},
     "output_type": "execute_result"
    }
   ],
   "source": [
    "max_of_maxes, mean_weights = get_average(100, 512)\n",
    "max_of_maxes, mean_weights"
   ]
  },
  {
   "cell_type": "code",
   "execution_count": 64,
   "metadata": {
    "collapsed": false,
    "deletable": true,
    "editable": true
   },
   "outputs": [
    {
     "data": {
      "text/plain": [
       "(0.0086816251126792254, 1.2322608224153953)"
      ]
     },
     "execution_count": 64,
     "metadata": {},
     "output_type": "execute_result"
    }
   ],
   "source": [
    "max_of_maxes, mean_weights = get_average(5, 1024)\n",
    "max_of_maxes, mean_weights"
   ]
  },
  {
   "cell_type": "code",
   "execution_count": 65,
   "metadata": {
    "collapsed": false,
    "deletable": true,
    "editable": true
   },
   "outputs": [
    {
     "data": {
      "text/plain": [
       "(0.0044474516063160996, 1.2072471374985294)"
      ]
     },
     "execution_count": 65,
     "metadata": {},
     "output_type": "execute_result"
    }
   ],
   "source": [
    "max_of_maxes, mean_weights = get_average(5, 2048)\n",
    "max_of_maxes, mean_weights"
   ]
  },
  {
   "cell_type": "code",
   "execution_count": 69,
   "metadata": {
    "collapsed": false,
    "deletable": true,
    "editable": true
   },
   "outputs": [
    {
     "name": "stdout",
     "output_type": "stream",
     "text": [
      "finished graph0\n",
      "finished graph1\n",
      "finished graph2\n",
      "finished graph3\n",
      "finished graph4\n"
     ]
    },
    {
     "data": {
      "text/plain": [
       "(0.0021721867253102767, 1.1942345620653498)"
      ]
     },
     "execution_count": 69,
     "metadata": {},
     "output_type": "execute_result"
    }
   ],
   "source": [
    "max_of_maxes, mean_weights = get_average(5, 4096)\n",
    "max_of_maxes, mean_weights"
   ]
  },
  {
   "cell_type": "code",
   "execution_count": 71,
   "metadata": {
    "collapsed": false,
    "deletable": true,
    "editable": true
   },
   "outputs": [
    {
     "name": "stdout",
     "output_type": "stream",
     "text": [
      "finished graph0\n",
      "finished graph1\n",
      "finished graph2\n",
      "finished graph3\n",
      "finished graph4\n"
     ]
    },
    {
     "data": {
      "text/plain": [
       "(0.0014452746846329578, 1.2004504318880531)"
      ]
     },
     "execution_count": 71,
     "metadata": {},
     "output_type": "execute_result"
    }
   ],
   "source": [
    "max_of_maxes, mean_weights = get_average(5, 8192)\n",
    "max_of_maxes, mean_weights"
   ]
  },
  {
   "cell_type": "code",
   "execution_count": null,
   "metadata": {
    "collapsed": true,
    "deletable": true,
    "editable": true
   },
   "outputs": [],
   "source": [
    "max_of_maxes, mean_weights = get_average(5, 16384)\n",
    "max_of_maxes, mean_weights"
   ]
  },
  {
   "cell_type": "code",
   "execution_count": null,
   "metadata": {
    "collapsed": true,
    "deletable": true,
    "editable": true
   },
   "outputs": [],
   "source": [
    "max_of_maxes, mean_weights = get_average(5, 32768)\n",
    "max_of_maxes, mean_weights"
   ]
  },
  {
   "cell_type": "code",
   "execution_count": null,
   "metadata": {
    "collapsed": true,
    "deletable": true,
    "editable": true
   },
   "outputs": [],
   "source": [
    "max_of_maxes, mean_weights = get_average(5, 65536)\n",
    "max_of_maxes, mean_weights"
   ]
  }
 ],
 "metadata": {
  "kernelspec": {
   "display_name": "Python 2",
   "language": "python",
   "name": "python2"
  },
  "language_info": {
   "codemirror_mode": {
    "name": "ipython",
    "version": 2
   },
   "file_extension": ".py",
   "mimetype": "text/x-python",
   "name": "python",
   "nbconvert_exporter": "python",
   "pygments_lexer": "ipython2",
   "version": "2.7.10"
  }
 },
 "nbformat": 4,
 "nbformat_minor": 2
}
